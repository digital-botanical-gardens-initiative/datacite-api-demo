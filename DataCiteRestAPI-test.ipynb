{
 "cells": [
  {
   "cell_type": "markdown",
   "id": "7bf8685f-f8ef-4ad3-9b19-b984d3a43cc4",
   "metadata": {},
   "source": [
    "# Jupyter notebook to explore DataCite Rest API\n",
    "This notebook demos some of the functionality of the DataCite Rest API using Python. It's based on the DataCite Rest API support docs: https://support.datacite.org/docs/api"
   ]
  },
  {
   "cell_type": "markdown",
   "id": "b49a89dc-23e5-4a3a-9fce-4180f37a8968",
   "metadata": {},
   "source": [
    "## Import packages"
   ]
  },
  {
   "cell_type": "code",
   "execution_count": null,
   "id": "c6b5910c-8344-482c-a6f1-f854d0310b29",
   "metadata": {},
   "outputs": [],
   "source": [
    "import requests, base64, json, getpass"
   ]
  },
  {
   "cell_type": "markdown",
   "id": "36036360-10b9-4aff-b768-4bad15d1847a",
   "metadata": {},
   "source": [
    "## Specify repository URL and credentials"
   ]
  },
  {
   "cell_type": "code",
   "execution_count": null,
   "id": "774b70dc-311a-4a55-b7db-9e2f4e051073",
   "metadata": {},
   "outputs": [],
   "source": [
    "# define the endpoint\n",
    "# testing: https://api.test.datacite.org/\n",
    "# production: https://api.datacite.org/\n",
    "endpoint = \"https://api.test.datacite.org/\"\n",
    "\n",
    "# define the repository ID and password for authentication\n",
    "repository_id = \"ABCD.XYZ\"\n",
    "repository_pw = getpass.getpass(\"Repository password: \")"
   ]
  },
  {
   "cell_type": "code",
   "execution_count": null,
   "id": "95bcb690-5795-4459-a67d-2b40070e806c",
   "metadata": {},
   "outputs": [],
   "source": [
    "# Authentication is done using base64 encoded string constructed from repository and ID and password\n",
    "encoded = base64.b64encode(bytes(repository_id + ':' + repository_pw, 'utf-8'))\n",
    "auth_str = \"Basic \" + encoded.decode()\n",
    "del repository_pw"
   ]
  },
  {
   "cell_type": "markdown",
   "id": "56367f66-6087-4510-8eca-b01ad914973e",
   "metadata": {},
   "source": [
    "## Return a DOI"
   ]
  },
  {
   "cell_type": "code",
   "execution_count": null,
   "id": "834c6435-899d-41fc-852b-4567db0a96ee",
   "metadata": {},
   "outputs": [],
   "source": [
    "# the URL is constructed from the endpoint and the DOI ID (prefix and suffix)\n",
    "id = \"10.82790/5pyp-jj80\"\n",
    "url = endpoint + \"dois/\" + id\n",
    "print(url)\n",
    "\n",
    "headers = {\"accept\": \"application/vnd.api+json\", \"authorization\": auth_str}\n",
    "\n",
    "response = requests.get(url, headers=headers) # JSON-formatted response\n",
    "\n",
    "print(json.dumps(response.json(), indent=4))"
   ]
  },
  {
   "cell_type": "code",
   "execution_count": null,
   "id": "f64c2919-c385-496c-b554-5a93fd0c4a89",
   "metadata": {},
   "outputs": [],
   "source": [
    "# this example shows how a \"real\" DOI is retrieved from the production server (no authentication required)\n",
    "url = \"https://api.datacite.org/dois/10.14454/FXWS-0523\"\n",
    "\n",
    "headers = {\"accept\": \"application/vnd.api+json\"}\n",
    "\n",
    "response = requests.get(url, headers=headers) # JSON-formatted response\n",
    "\n",
    "print(json.dumps(response.json(), indent=4))"
   ]
  },
  {
   "cell_type": "markdown",
   "id": "9d87090d-3ed5-4657-a46d-2357786d4303",
   "metadata": {},
   "source": [
    "## Return list of DOIs\n",
    "It's also possible to return a list of DOIs according to different parameters, for example all DOIs under a given prefix. For other parameters, see https://support.datacite.org/docs/api-queries "
   ]
  },
  {
   "cell_type": "code",
   "execution_count": null,
   "id": "b7f07a65-b1c1-4ca8-bb3f-999659fffdbb",
   "metadata": {},
   "outputs": [],
   "source": [
    "search_param = \"prefix\"\n",
    "search_val = \"10.82790\"\n",
    "\n",
    "url = endpoint + \"dois?\" + search_param + \"=\" + search_val    # url = \"https://api.test.datacite.org/dois?prefix=10.82790\"\n",
    "\n",
    "headers = {\n",
    "    \"accept\": \"application/vnd.api+json\",\n",
    "    \"authorization\": auth_str\n",
    "}\n",
    "\n",
    "response = requests.get(url, headers=headers)\n",
    "\n",
    "print(\"Found \" + str(len(response.json()['data'])) + \" DOIs matching \" + search_param + \" \" + search_val)"
   ]
  },
  {
   "cell_type": "markdown",
   "id": "1235d182-241c-45bd-822d-e56b570a177b",
   "metadata": {},
   "source": [
    "Check the resource type and client type. For IGSN repositories, this should be `PhysicalObject` and `igsnCatalog`, respectively."
   ]
  },
  {
   "cell_type": "code",
   "execution_count": null,
   "id": "095954cf-ae07-4188-923a-01feb2d6ff6c",
   "metadata": {},
   "outputs": [],
   "source": [
    "json_data = response.json()['data']\n",
    "for doi in json_data:\n",
    "    print('DOI: ' + doi['attributes']['doi'])\n",
    "    clientType = requests.get('https://api.test.datacite.org/clients/' + doi['relationships']['client']['data']['id']).json()['data']['attributes']['clientType']\n",
    "    print('Repo type: ' + clientType)\n",
    "    resource_type = response.json()['data'][0]['attributes']['types']['resourceTypeGeneral']\n",
    "    print('Resource type: ' + resource_type)\n",
    "    if clientType == 'igsnCatalog' and resource_type == 'PhysicalObject':\n",
    "        print('This DOI is a valid IGSN\\n')\n",
    "    else:\n",
    "        print('This DOI is not a valid IGSN\\n')"
   ]
  },
  {
   "cell_type": "markdown",
   "id": "01c99bc2-fd19-42e7-90a3-9bb1ad45ba92",
   "metadata": {},
   "source": [
    "## Creating DOIs\n",
    "To create DOIs, the metadata is provided directly in JSON format (JSON payload). As an alternative to providing metadata attributes directly in JSON, one can also provide metadata in other formats.\n",
    "\n",
    "The following metadata formats can be used to register DOIs:\n",
    "- DataCite XML\n",
    "- RIS\n",
    "- BibTeX\n",
    "- Schema.org JSON-LD\n",
    "- Citeproc JSON\n",
    "- Codemeta\n",
    "- Crossref XML\n",
    "\n",
    "To do this:\n",
    "1. base64-encode the metadata\n",
    "2. include them in the \"xml\" attribute of the JSON payload"
   ]
  },
  {
   "cell_type": "markdown",
   "id": "6d12788a-725b-40fb-a937-50e6f52b9129",
   "metadata": {},
   "source": [
    "Constructing a simple JSON-payload for a draft DOI (not published):"
   ]
  },
  {
   "cell_type": "code",
   "execution_count": null,
   "id": "fba4abf8-75ff-4eab-be1c-ced05a53f332",
   "metadata": {},
   "outputs": [],
   "source": [
    "payload = {\n",
    "  \"data\": {\n",
    "    \"type\": \"dois\",\n",
    "    \"attributes\": {\n",
    "      \"prefix\": \"10.82790\",\n",
    "      \"creators\": [\n",
    "        {\n",
    "          \"name\": \"Digital Botanical Gardens Initiative\"\n",
    "        }\n",
    "      ],\n",
    "      \"titles\": [\n",
    "        {\n",
    "          \"title\": \"Next test entry created from API.\"\n",
    "        }\n",
    "      ],\n",
    "      \"publisher\": \"DBGI\",\n",
    "      \"publicationYear\": 2024,\n",
    "      \"types\": {\n",
    "        \"resourceTypeGeneral\": \"PhysicalObject\" # for IGSN repositories, this should always be PhysicalObject\n",
    "      },\n",
    "      \"url\": \"https://portal.earthmetabolome.org/\"\n",
    "    }\n",
    "  }\n",
    "}"
   ]
  },
  {
   "cell_type": "code",
   "execution_count": null,
   "id": "e3557b4a-f8f9-470b-8060-7134f72683ae",
   "metadata": {},
   "outputs": [],
   "source": [
    "def create_doi_with_json_payload(endpoint, auth_str, payload):\n",
    "    url = endpoint + \"dois/\"\n",
    "\n",
    "    headers = {\n",
    "        \"content-type\": \"application/json\",\n",
    "        \"authorization\": auth_str\n",
    "    }\n",
    "\n",
    "    return requests.post(url, json=payload, headers=headers)"
   ]
  },
  {
   "cell_type": "code",
   "execution_count": null,
   "id": "a61ef413-6ceb-46ff-832a-f2d005c9e812",
   "metadata": {},
   "outputs": [],
   "source": [
    "response = create_doi_with_json_payload(endpoint, auth_str, payload)\n",
    "\n",
    "print(json.dumps(response.json(), indent=4))"
   ]
  },
  {
   "cell_type": "markdown",
   "id": "bfa4cc8d-8cea-4bd5-8c3e-f34114094b9b",
   "metadata": {},
   "source": [
    "To publish a DOI directly (without draft state), add `\"event\": \"publish\"` to the attributes:"
   ]
  },
  {
   "cell_type": "code",
   "execution_count": null,
   "id": "62d7b4f9-ef1b-4ec7-9a0c-78f71eb56661",
   "metadata": {},
   "outputs": [],
   "source": [
    "payload = {\n",
    "  \"data\": {\n",
    "      \"type\": \"dois\",\n",
    "      \"attributes\": {\n",
    "          \"prefix\": \"10.82790\",\n",
    "          \"event\": \"publish\",\n",
    "          \"creators\": [\n",
    "              {\n",
    "                  \"name\": \"Digital Botanical Gardens Initiative\"\n",
    "              }\n",
    "          ],\n",
    "          \"titles\": [\n",
    "              {\n",
    "                  \"title\": \"Test entry created from API.\"\n",
    "              }\n",
    "          ],\n",
    "          \"publisher\": \"DBGI\",\n",
    "          \"publicationYear\": 2024,\n",
    "          \"types\": {\n",
    "              \"resourceTypeGeneral\": \"PhysicalObject\" # for IGSN repositories, this should always be PhysicalObject\n",
    "          },\n",
    "          \"url\": \"https://portal.earthmetabolome.org/\"\n",
    "    }\n",
    "  }\n",
    "}"
   ]
  },
  {
   "cell_type": "code",
   "execution_count": null,
   "id": "885091da-fdda-47fa-bc3b-f8d0e819d7cc",
   "metadata": {},
   "outputs": [],
   "source": [
    "response = create_doi_with_json_payload(endpoint, auth_str, payload)\n",
    "\n",
    "print(json.dumps(response.json(), indent=4))"
   ]
  },
  {
   "cell_type": "markdown",
   "id": "e335f990-7c77-4e55-90ba-64bb8c961734",
   "metadata": {},
   "source": [
    "## Delete a DOI in draft state\n",
    "It is possible to delete DOIs created in draft state. Published DOIs cannot be deleted. They can only be updated (see below). "
   ]
  },
  {
   "cell_type": "code",
   "execution_count": null,
   "id": "66bd9f0c-d249-445b-ab77-d71b292c8e56",
   "metadata": {},
   "outputs": [],
   "source": [
    "# the URL is constructed from the endpoint and the DOI ID (prefix and suffix)\n",
    "id = \"10.82790/n5xn-jm02\"\n",
    "url = endpoint + \"dois/\" + id\n",
    "\n",
    "headers = {\"authorization\": auth_str}\n",
    "\n",
    "response = requests.delete(url, headers=headers)\n",
    "\n",
    "assert response.status_code==204, response.text # successful deletion returns status code 204"
   ]
  },
  {
   "cell_type": "markdown",
   "id": "113ef58b-325e-4870-b5f2-e50dcb6ce1c4",
   "metadata": {},
   "source": [
    "## Update a DOI\n",
    "PUT requests to the /dois endpoint will **update** a DOI record if it already exists and create a **new record** if the DOI name is not already taken. When updating a record via the API, only the attributes included in the payload will be affected.\n",
    "\n",
    "### Example: update the URL of the record and add a license"
   ]
  },
  {
   "cell_type": "code",
   "execution_count": null,
   "id": "9b298828-3e34-4b7d-95fe-6a379826557d",
   "metadata": {},
   "outputs": [],
   "source": [
    "payload = {\n",
    "  \"data\": {\n",
    "    \"type\": \"dois\",\n",
    "    \"attributes\": {\n",
    "        \"url\": \"https://portal.earthmetabolome.org\",\n",
    "        \"rightsList\": [\n",
    "            {\n",
    "                \"rights\": \"Creative Commons Zero v1.0 Universal\",\n",
    "                \"rightsUri\": \"https://creativecommons.org/publicdomain/zero/1.0/legalcode\",\n",
    "                \"schemeUri\": \"https://spdx.org/licenses/\",\n",
    "                \"rightsIdentifier\": \"cc0-1.0\",\n",
    "                \"rightsIdentifierScheme\": \"SPDX\"\n",
    "            }\n",
    "        ]\n",
    "    }\n",
    "  }\n",
    "}"
   ]
  },
  {
   "cell_type": "code",
   "execution_count": null,
   "id": "e9ba2011-a7f9-4c66-acaa-55df342c88f8",
   "metadata": {},
   "outputs": [],
   "source": [
    "def update_doi_with_json_payload(endpoint, doi_id, auth_str, payload):\n",
    "    url = endpoint + \"dois/\" + doi_id\n",
    "\n",
    "    headers = {\n",
    "        \"content-type\": \"application/json\",\n",
    "        \"authorization\": auth_str\n",
    "    }\n",
    "\n",
    "    return requests.put(url, json=payload, headers=headers)"
   ]
  },
  {
   "cell_type": "code",
   "execution_count": null,
   "id": "8225f331-e813-41b1-87a0-0ef59f4943ab",
   "metadata": {},
   "outputs": [],
   "source": [
    "doi_id = \"10.82790/7em2-m082\"\n",
    "response = update_doi_with_json_payload(endpoint, doi_id, auth_str, payload)\n",
    "\n",
    "print(json.dumps(response.json(), indent=4))"
   ]
  },
  {
   "cell_type": "markdown",
   "id": "5292d74c-6a9d-4229-80a7-13580e34fba0",
   "metadata": {},
   "source": [
    "## Metadata provenance\n",
    "The changes made to a DOI are tracked and can be retrieved via the `/activities` endpoint. The below example shows the initial metadata version submitted at creation (`\"action\": \"create\"`) and subsequent changed versions (`\"action\": \"update\"`). "
   ]
  },
  {
   "cell_type": "code",
   "execution_count": null,
   "id": "dac2baeb-3031-469b-8d88-d1d70831d373",
   "metadata": {},
   "outputs": [],
   "source": [
    "doi_id = \"10.82790/7em2-m082\"\n",
    "doi_id = \"10.82790/7aqr-3518\"\n",
    "\n",
    "url = endpoint + \"dois/\" + doi_id + \"/activities\"\n",
    "\n",
    "# url = \"https://api.datacite.org/dois/10.5438/jwvf-8a66/activities\"\n",
    "\n",
    "headers = {\"accept\": \"application/vnd.api+json\"}\n",
    "\n",
    "response = requests.get(url, headers=headers)\n",
    "\n",
    "print(json.dumps(response.json(), indent=4))"
   ]
  }
 ],
 "metadata": {
  "kernelspec": {
   "display_name": "Python 3 (ipykernel)",
   "language": "python",
   "name": "python3"
  },
  "language_info": {
   "codemirror_mode": {
    "name": "ipython",
    "version": 3
   },
   "file_extension": ".py",
   "mimetype": "text/x-python",
   "name": "python",
   "nbconvert_exporter": "python",
   "pygments_lexer": "ipython3",
   "version": "3.11.8"
  }
 },
 "nbformat": 4,
 "nbformat_minor": 5
}
